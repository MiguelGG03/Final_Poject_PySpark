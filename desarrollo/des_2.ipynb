{
 "cells": [
  {
   "attachments": {},
   "cell_type": "markdown",
   "metadata": {},
   "source": [
    "Usando los dataframe de Dask, prepararemos un notebook para desarrollar los siguientes\n",
    "puntos"
   ]
  },
  {
   "attachments": {},
   "cell_type": "markdown",
   "metadata": {},
   "source": [
    "> Cargaremos el conjunto de datos en un dataframe"
   ]
  },
  {
   "cell_type": "code",
   "execution_count": 73,
   "metadata": {},
   "outputs": [],
   "source": [
    "import dask.dataframe as dd"
   ]
  },
  {
   "cell_type": "code",
   "execution_count": 74,
   "metadata": {},
   "outputs": [
    {
     "data": {
      "text/html": [
       "<div>\n",
       "<style scoped>\n",
       "    .dataframe tbody tr th:only-of-type {\n",
       "        vertical-align: middle;\n",
       "    }\n",
       "\n",
       "    .dataframe tbody tr th {\n",
       "        vertical-align: top;\n",
       "    }\n",
       "\n",
       "    .dataframe thead th {\n",
       "        text-align: right;\n",
       "    }\n",
       "</style>\n",
       "<table border=\"1\" class=\"dataframe\">\n",
       "  <thead>\n",
       "    <tr style=\"text-align: right;\">\n",
       "      <th></th>\n",
       "      <th>Activity Period</th>\n",
       "      <th>Operating Airline</th>\n",
       "      <th>Operating Airline IATA Code</th>\n",
       "      <th>Published Airline</th>\n",
       "      <th>Published Airline IATA Code</th>\n",
       "      <th>GEO Summary</th>\n",
       "      <th>GEO Region</th>\n",
       "      <th>Activity Type Code</th>\n",
       "      <th>Price Category Code</th>\n",
       "      <th>Terminal</th>\n",
       "      <th>...</th>\n",
       "      <th>chance_of_rain</th>\n",
       "      <th>will_it_snow</th>\n",
       "      <th>chance_of_snow</th>\n",
       "      <th>vis_km</th>\n",
       "      <th>festivo</th>\n",
       "      <th>anyo</th>\n",
       "      <th>mes</th>\n",
       "      <th>dia</th>\n",
       "      <th>hora</th>\n",
       "      <th>diasemana</th>\n",
       "    </tr>\n",
       "  </thead>\n",
       "  <tbody>\n",
       "    <tr>\n",
       "      <th>0</th>\n",
       "      <td>200507</td>\n",
       "      <td>ATA Airlines</td>\n",
       "      <td>TZ</td>\n",
       "      <td>ATA Airlines</td>\n",
       "      <td>TZ</td>\n",
       "      <td>Domestic</td>\n",
       "      <td>US</td>\n",
       "      <td>Deplaned</td>\n",
       "      <td>Low Fare</td>\n",
       "      <td>Terminal 1</td>\n",
       "      <td>...</td>\n",
       "      <td>0</td>\n",
       "      <td>0</td>\n",
       "      <td>0</td>\n",
       "      <td>10.0</td>\n",
       "      <td>0</td>\n",
       "      <td>2017</td>\n",
       "      <td>10</td>\n",
       "      <td>1</td>\n",
       "      <td>0</td>\n",
       "      <td>1</td>\n",
       "    </tr>\n",
       "    <tr>\n",
       "      <th>1</th>\n",
       "      <td>200507</td>\n",
       "      <td>ATA Airlines</td>\n",
       "      <td>TZ</td>\n",
       "      <td>ATA Airlines</td>\n",
       "      <td>TZ</td>\n",
       "      <td>Domestic</td>\n",
       "      <td>US</td>\n",
       "      <td>Enplaned</td>\n",
       "      <td>Low Fare</td>\n",
       "      <td>Terminal 1</td>\n",
       "      <td>...</td>\n",
       "      <td>0</td>\n",
       "      <td>0</td>\n",
       "      <td>0</td>\n",
       "      <td>10.0</td>\n",
       "      <td>0</td>\n",
       "      <td>2017</td>\n",
       "      <td>10</td>\n",
       "      <td>1</td>\n",
       "      <td>1</td>\n",
       "      <td>1</td>\n",
       "    </tr>\n",
       "    <tr>\n",
       "      <th>2</th>\n",
       "      <td>200507</td>\n",
       "      <td>ATA Airlines</td>\n",
       "      <td>TZ</td>\n",
       "      <td>ATA Airlines</td>\n",
       "      <td>TZ</td>\n",
       "      <td>Domestic</td>\n",
       "      <td>US</td>\n",
       "      <td>Thru / Transit</td>\n",
       "      <td>Low Fare</td>\n",
       "      <td>Terminal 1</td>\n",
       "      <td>...</td>\n",
       "      <td>0</td>\n",
       "      <td>0</td>\n",
       "      <td>0</td>\n",
       "      <td>10.0</td>\n",
       "      <td>0</td>\n",
       "      <td>2017</td>\n",
       "      <td>10</td>\n",
       "      <td>1</td>\n",
       "      <td>2</td>\n",
       "      <td>1</td>\n",
       "    </tr>\n",
       "    <tr>\n",
       "      <th>3</th>\n",
       "      <td>200507</td>\n",
       "      <td>Air Canada</td>\n",
       "      <td>AC</td>\n",
       "      <td>Air Canada</td>\n",
       "      <td>AC</td>\n",
       "      <td>International</td>\n",
       "      <td>Canada</td>\n",
       "      <td>Deplaned</td>\n",
       "      <td>Other</td>\n",
       "      <td>Terminal 1</td>\n",
       "      <td>...</td>\n",
       "      <td>0</td>\n",
       "      <td>0</td>\n",
       "      <td>0</td>\n",
       "      <td>10.0</td>\n",
       "      <td>0</td>\n",
       "      <td>2017</td>\n",
       "      <td>10</td>\n",
       "      <td>1</td>\n",
       "      <td>3</td>\n",
       "      <td>1</td>\n",
       "    </tr>\n",
       "    <tr>\n",
       "      <th>4</th>\n",
       "      <td>200507</td>\n",
       "      <td>Air Canada</td>\n",
       "      <td>AC</td>\n",
       "      <td>Air Canada</td>\n",
       "      <td>AC</td>\n",
       "      <td>International</td>\n",
       "      <td>Canada</td>\n",
       "      <td>Enplaned</td>\n",
       "      <td>Other</td>\n",
       "      <td>Terminal 1</td>\n",
       "      <td>...</td>\n",
       "      <td>0</td>\n",
       "      <td>0</td>\n",
       "      <td>0</td>\n",
       "      <td>10.0</td>\n",
       "      <td>0</td>\n",
       "      <td>2017</td>\n",
       "      <td>10</td>\n",
       "      <td>1</td>\n",
       "      <td>4</td>\n",
       "      <td>1</td>\n",
       "    </tr>\n",
       "  </tbody>\n",
       "</table>\n",
       "<p>5 rows × 102 columns</p>\n",
       "</div>"
      ],
      "text/plain": [
       "   Activity Period Operating Airline Operating Airline IATA Code  \\\n",
       "0           200507      ATA Airlines                          TZ   \n",
       "1           200507      ATA Airlines                          TZ   \n",
       "2           200507      ATA Airlines                          TZ   \n",
       "3           200507       Air Canada                           AC   \n",
       "4           200507       Air Canada                           AC   \n",
       "\n",
       "  Published Airline Published Airline IATA Code    GEO Summary GEO Region  \\\n",
       "0      ATA Airlines                          TZ       Domestic         US   \n",
       "1      ATA Airlines                          TZ       Domestic         US   \n",
       "2      ATA Airlines                          TZ       Domestic         US   \n",
       "3       Air Canada                           AC  International     Canada   \n",
       "4       Air Canada                           AC  International     Canada   \n",
       "\n",
       "  Activity Type Code Price Category Code    Terminal  ... chance_of_rain  \\\n",
       "0           Deplaned            Low Fare  Terminal 1  ...              0   \n",
       "1           Enplaned            Low Fare  Terminal 1  ...              0   \n",
       "2     Thru / Transit            Low Fare  Terminal 1  ...              0   \n",
       "3           Deplaned               Other  Terminal 1  ...              0   \n",
       "4           Enplaned               Other  Terminal 1  ...              0   \n",
       "\n",
       "   will_it_snow chance_of_snow  vis_km  festivo  anyo  mes dia  hora diasemana  \n",
       "0             0              0    10.0        0  2017   10   1     0         1  \n",
       "1             0              0    10.0        0  2017   10   1     1         1  \n",
       "2             0              0    10.0        0  2017   10   1     2         1  \n",
       "3             0              0    10.0        0  2017   10   1     3         1  \n",
       "4             0              0    10.0        0  2017   10   1     4         1  \n",
       "\n",
       "[5 rows x 102 columns]"
      ]
     },
     "execution_count": 74,
     "metadata": {},
     "output_type": "execute_result"
    }
   ],
   "source": [
    "df1 = dd.read_csv(\"data/air_traffic_data.csv\")\n",
    "df2 = dd.read_csv(\"data/ABT_CALIDAD_AIRE.csv\")\n",
    "df = dd.merge(df1, df2)\n",
    "df.head()"
   ]
  },
  {
   "attachments": {},
   "cell_type": "markdown",
   "metadata": {},
   "source": [
    "He metido todos los datos en un mismo dataframe"
   ]
  },
  {
   "attachments": {},
   "cell_type": "markdown",
   "metadata": {},
   "source": [
    "> ¿Cuántas compañías diferentes aparecen en el fichero?"
   ]
  },
  {
   "cell_type": "code",
   "execution_count": 75,
   "metadata": {},
   "outputs": [
    {
     "data": {
      "text/plain": [
       "0            ATA Airlines\n",
       "1             Air Canada \n",
       "2               Air China\n",
       "3              Air France\n",
       "4         Air New Zealand\n",
       "             ...         \n",
       "72         Etihad Airways\n",
       "73         China Southern\n",
       "74       Turkish Airlines\n",
       "75    COPA Airlines, Inc.\n",
       "76      Air India Limited\n",
       "Name: Operating Airline, Length: 77, dtype: object"
      ]
     },
     "execution_count": 75,
     "metadata": {},
     "output_type": "execute_result"
    }
   ],
   "source": [
    "df[\"Operating Airline\"].unique().compute()"
   ]
  },
  {
   "attachments": {},
   "cell_type": "markdown",
   "metadata": {},
   "source": [
    "Aparecen 77 compañías diferentes"
   ]
  },
  {
   "attachments": {},
   "cell_type": "markdown",
   "metadata": {},
   "source": [
    "> ¿Cuántos pasajeros tienen de media los vuelos de cada compañía?"
   ]
  },
  {
   "cell_type": "code",
   "execution_count": 76,
   "metadata": {},
   "outputs": [
    {
     "data": {
      "text/plain": [
       "Operating Airline\n",
       "ATA Airlines          9661.659091\n",
       "Aer Lingus            4407.183673\n",
       "Aeromexico            5463.822222\n",
       "Air Berlin            2320.750000\n",
       "Air Canada           18251.560109\n",
       "                         ...     \n",
       "Virgin Atlantic       9847.104651\n",
       "WestJet Airlines      5338.155340\n",
       "World Airways          261.666667\n",
       "XL Airways France     2240.129032\n",
       "Xtra Airways            73.000000\n",
       "Name: Adjusted Passenger Count, Length: 77, dtype: float64"
      ]
     },
     "execution_count": 76,
     "metadata": {},
     "output_type": "execute_result"
    }
   ],
   "source": [
    "df.groupby(\"Operating Airline\")[\"Adjusted Passenger Count\"].mean().compute()"
   ]
  },
  {
   "attachments": {},
   "cell_type": "markdown",
   "metadata": {},
   "source": [
    "Es creible porque según los datos de esa parte del dataset, el conteo de pasajeros por vuelo es muy alto"
   ]
  },
  {
   "attachments": {},
   "cell_type": "markdown",
   "metadata": {},
   "source": [
    "> Eliminaremos los registros duplicados por el campo “GEO Región”, manteniendo\n",
    "únicamente aquel con mayor número de pasajeros."
   ]
  },
  {
   "cell_type": "code",
   "execution_count": 77,
   "metadata": {},
   "outputs": [],
   "source": [
    "def shaper(df):\n",
    "    return f\"({df.shape[0].compute()}, {df.shape[1]})\""
   ]
  },
  {
   "cell_type": "code",
   "execution_count": 78,
   "metadata": {},
   "outputs": [
    {
     "data": {
      "text/plain": [
       "'(15007, 102)'"
      ]
     },
     "execution_count": 78,
     "metadata": {},
     "output_type": "execute_result"
    }
   ],
   "source": [
    "shaper(df)"
   ]
  },
  {
   "cell_type": "code",
   "execution_count": 79,
   "metadata": {},
   "outputs": [
    {
     "data": {
      "text/html": [
       "<div>\n",
       "<style scoped>\n",
       "    .dataframe tbody tr th:only-of-type {\n",
       "        vertical-align: middle;\n",
       "    }\n",
       "\n",
       "    .dataframe tbody tr th {\n",
       "        vertical-align: top;\n",
       "    }\n",
       "\n",
       "    .dataframe thead th {\n",
       "        text-align: right;\n",
       "    }\n",
       "</style>\n",
       "<table border=\"1\" class=\"dataframe\">\n",
       "  <thead>\n",
       "    <tr style=\"text-align: right;\">\n",
       "      <th></th>\n",
       "      <th>Activity Period</th>\n",
       "      <th>Operating Airline</th>\n",
       "      <th>Operating Airline IATA Code</th>\n",
       "      <th>Published Airline</th>\n",
       "      <th>Published Airline IATA Code</th>\n",
       "      <th>GEO Summary</th>\n",
       "      <th>GEO Region</th>\n",
       "      <th>Activity Type Code</th>\n",
       "      <th>Price Category Code</th>\n",
       "      <th>Terminal</th>\n",
       "      <th>...</th>\n",
       "      <th>chance_of_rain</th>\n",
       "      <th>will_it_snow</th>\n",
       "      <th>chance_of_snow</th>\n",
       "      <th>vis_km</th>\n",
       "      <th>festivo</th>\n",
       "      <th>anyo</th>\n",
       "      <th>mes</th>\n",
       "      <th>dia</th>\n",
       "      <th>hora</th>\n",
       "      <th>diasemana</th>\n",
       "    </tr>\n",
       "  </thead>\n",
       "  <tbody>\n",
       "    <tr>\n",
       "      <th>0</th>\n",
       "      <td>201308</td>\n",
       "      <td>United Airlines</td>\n",
       "      <td>UA</td>\n",
       "      <td>United Airlines</td>\n",
       "      <td>UA</td>\n",
       "      <td>Domestic</td>\n",
       "      <td>US</td>\n",
       "      <td>Deplaned</td>\n",
       "      <td>Other</td>\n",
       "      <td>Terminal 3</td>\n",
       "      <td>...</td>\n",
       "      <td>0</td>\n",
       "      <td>0</td>\n",
       "      <td>0</td>\n",
       "      <td>10.0</td>\n",
       "      <td>0</td>\n",
       "      <td>2017</td>\n",
       "      <td>11</td>\n",
       "      <td>18</td>\n",
       "      <td>3</td>\n",
       "      <td>7</td>\n",
       "    </tr>\n",
       "    <tr>\n",
       "      <th>1</th>\n",
       "      <td>200708</td>\n",
       "      <td>United Airlines - Pre 07/01/2013</td>\n",
       "      <td>UA</td>\n",
       "      <td>United Airlines - Pre 07/01/2013</td>\n",
       "      <td>UA</td>\n",
       "      <td>International</td>\n",
       "      <td>Asia</td>\n",
       "      <td>Deplaned</td>\n",
       "      <td>Other</td>\n",
       "      <td>International</td>\n",
       "      <td>...</td>\n",
       "      <td>0</td>\n",
       "      <td>0</td>\n",
       "      <td>0</td>\n",
       "      <td>10.0</td>\n",
       "      <td>0</td>\n",
       "      <td>2018</td>\n",
       "      <td>2</td>\n",
       "      <td>1</td>\n",
       "      <td>21</td>\n",
       "      <td>5</td>\n",
       "    </tr>\n",
       "    <tr>\n",
       "      <th>2</th>\n",
       "      <td>201507</td>\n",
       "      <td>United Airlines</td>\n",
       "      <td>UA</td>\n",
       "      <td>United Airlines</td>\n",
       "      <td>UA</td>\n",
       "      <td>International</td>\n",
       "      <td>Europe</td>\n",
       "      <td>Deplaned</td>\n",
       "      <td>Other</td>\n",
       "      <td>International</td>\n",
       "      <td>...</td>\n",
       "      <td>63</td>\n",
       "      <td>0</td>\n",
       "      <td>0</td>\n",
       "      <td>6.3</td>\n",
       "      <td>0</td>\n",
       "      <td>2018</td>\n",
       "      <td>3</td>\n",
       "      <td>9</td>\n",
       "      <td>16</td>\n",
       "      <td>6</td>\n",
       "    </tr>\n",
       "    <tr>\n",
       "      <th>3</th>\n",
       "      <td>200708</td>\n",
       "      <td>Air Canada</td>\n",
       "      <td>AC</td>\n",
       "      <td>Air Canada</td>\n",
       "      <td>AC</td>\n",
       "      <td>International</td>\n",
       "      <td>Canada</td>\n",
       "      <td>Deplaned</td>\n",
       "      <td>Other</td>\n",
       "      <td>Terminal 3</td>\n",
       "      <td>...</td>\n",
       "      <td>1</td>\n",
       "      <td>0</td>\n",
       "      <td>0</td>\n",
       "      <td>10.0</td>\n",
       "      <td>0</td>\n",
       "      <td>2018</td>\n",
       "      <td>1</td>\n",
       "      <td>28</td>\n",
       "      <td>16</td>\n",
       "      <td>1</td>\n",
       "    </tr>\n",
       "    <tr>\n",
       "      <th>4</th>\n",
       "      <td>201407</td>\n",
       "      <td>United Airlines</td>\n",
       "      <td>UA</td>\n",
       "      <td>United Airlines</td>\n",
       "      <td>UA</td>\n",
       "      <td>International</td>\n",
       "      <td>Mexico</td>\n",
       "      <td>Deplaned</td>\n",
       "      <td>Other</td>\n",
       "      <td>International</td>\n",
       "      <td>...</td>\n",
       "      <td>68</td>\n",
       "      <td>0</td>\n",
       "      <td>0</td>\n",
       "      <td>9.3</td>\n",
       "      <td>0</td>\n",
       "      <td>2018</td>\n",
       "      <td>1</td>\n",
       "      <td>9</td>\n",
       "      <td>14</td>\n",
       "      <td>3</td>\n",
       "    </tr>\n",
       "  </tbody>\n",
       "</table>\n",
       "<p>5 rows × 102 columns</p>\n",
       "</div>"
      ],
      "text/plain": [
       "   Activity Period                 Operating Airline  \\\n",
       "0           201308                   United Airlines   \n",
       "1           200708  United Airlines - Pre 07/01/2013   \n",
       "2           201507                   United Airlines   \n",
       "3           200708                       Air Canada    \n",
       "4           201407                   United Airlines   \n",
       "\n",
       "  Operating Airline IATA Code                 Published Airline  \\\n",
       "0                          UA                   United Airlines   \n",
       "1                          UA  United Airlines - Pre 07/01/2013   \n",
       "2                          UA                   United Airlines   \n",
       "3                          AC                       Air Canada    \n",
       "4                          UA                   United Airlines   \n",
       "\n",
       "  Published Airline IATA Code    GEO Summary GEO Region Activity Type Code  \\\n",
       "0                          UA       Domestic         US           Deplaned   \n",
       "1                          UA  International       Asia           Deplaned   \n",
       "2                          UA  International     Europe           Deplaned   \n",
       "3                          AC  International     Canada           Deplaned   \n",
       "4                          UA  International     Mexico           Deplaned   \n",
       "\n",
       "  Price Category Code       Terminal  ... chance_of_rain  will_it_snow  \\\n",
       "0               Other     Terminal 3  ...              0             0   \n",
       "1               Other  International  ...              0             0   \n",
       "2               Other  International  ...             63             0   \n",
       "3               Other     Terminal 3  ...              1             0   \n",
       "4               Other  International  ...             68             0   \n",
       "\n",
       "  chance_of_snow  vis_km  festivo  anyo  mes dia  hora diasemana  \n",
       "0              0    10.0        0  2017   11  18     3         7  \n",
       "1              0    10.0        0  2018    2   1    21         5  \n",
       "2              0     6.3        0  2018    3   9    16         6  \n",
       "3              0    10.0        0  2018    1  28    16         1  \n",
       "4              0     9.3        0  2018    1   9    14         3  \n",
       "\n",
       "[5 rows x 102 columns]"
      ]
     },
     "execution_count": 79,
     "metadata": {},
     "output_type": "execute_result"
    }
   ],
   "source": [
    "geo_df = df.sort_values(by=[\"Adjusted Passenger Count\"], ascending=False)\n",
    "geo_df = geo_df.reset_index(drop=True)\n",
    "geo_df = geo_df.drop_duplicates(subset=[\"GEO Region\"], keep=\"first\")\n",
    "geo_df = geo_df.reset_index(drop=True)\n",
    "geo_df.head()"
   ]
  },
  {
   "cell_type": "code",
   "execution_count": 80,
   "metadata": {},
   "outputs": [
    {
     "data": {
      "text/plain": [
       "'(9, 102)'"
      ]
     },
     "execution_count": 80,
     "metadata": {},
     "output_type": "execute_result"
    }
   ],
   "source": [
    "shaper(geo_df)"
   ]
  },
  {
   "cell_type": "code",
   "execution_count": 81,
   "metadata": {},
   "outputs": [
    {
     "data": {
      "text/plain": [
       "0                     US\n",
       "1                 Canada\n",
       "2                   Asia\n",
       "3                 Europe\n",
       "4    Australia / Oceania\n",
       "5                 Mexico\n",
       "6        Central America\n",
       "7            Middle East\n",
       "8          South America\n",
       "Name: GEO Region, dtype: object"
      ]
     },
     "execution_count": 81,
     "metadata": {},
     "output_type": "execute_result"
    }
   ],
   "source": [
    "df[\"GEO Region\"].unique().compute()"
   ]
  },
  {
   "cell_type": "code",
   "execution_count": 82,
   "metadata": {},
   "outputs": [
    {
     "data": {
      "text/plain": [
       "0                     US\n",
       "1                   Asia\n",
       "2                 Europe\n",
       "3                 Canada\n",
       "4                 Mexico\n",
       "5            Middle East\n",
       "6    Australia / Oceania\n",
       "7        Central America\n",
       "8          South America\n",
       "Name: GEO Region, dtype: object"
      ]
     },
     "execution_count": 82,
     "metadata": {},
     "output_type": "execute_result"
    }
   ],
   "source": [
    "geo_df[\"GEO Region\"].unique().compute()"
   ]
  },
  {
   "cell_type": "code",
   "execution_count": 83,
   "metadata": {},
   "outputs": [],
   "source": [
    "reg=[]\n",
    "as_pas=[]\n",
    "for i in list(geo_df[\"GEO Region\"]):\n",
    "    reg.append(i)\n",
    "for i in list(geo_df[\"Adjusted Passenger Count\"]):\n",
    "    as_pas.append(i)"
   ]
  },
  {
   "cell_type": "code",
   "execution_count": 84,
   "metadata": {},
   "outputs": [
    {
     "name": "stdout",
     "output_type": "stream",
     "text": [
      "US:  659837\n",
      "Asia:  86398\n",
      "Europe:  48136\n",
      "Canada:  39798\n",
      "Mexico:  29206\n",
      "Middle East:  14769\n",
      "Australia / Oceania:  12973\n",
      "Central America:  8970\n",
      "South America:  3685\n"
     ]
    }
   ],
   "source": [
    "for i in range(len(reg)):\n",
    "    print(f\"{reg[i]}:  {as_pas[i]}\")"
   ]
  },
  {
   "attachments": {},
   "cell_type": "markdown",
   "metadata": {},
   "source": [
    "Los maximos oficiales del dataframe completo"
   ]
  },
  {
   "cell_type": "code",
   "execution_count": 85,
   "metadata": {},
   "outputs": [
    {
     "name": "stdout",
     "output_type": "stream",
     "text": [
      "US: 659837\n",
      "Asia: 86398\n",
      "Europe: 48136\n",
      "Canada: 39798\n",
      "Mexico: 29206\n",
      "Middle East: 14769\n",
      "Australia / Oceania: 12973\n",
      "Central America: 8970\n",
      "South America: 3685\n"
     ]
    }
   ],
   "source": [
    "for col in reg:\n",
    "    print(f\"{col}: {df[df['GEO Region']==col]['Adjusted Passenger Count'].max().compute()}\")"
   ]
  },
  {
   "attachments": {},
   "cell_type": "markdown",
   "metadata": {},
   "source": [
    "Nos hemos cargado los datos totalmente, porque hemmos pasado de 15007 filas a 9, lo que quiere decir que solo existen 9 tipos diferentes de `\"GEO Region\"` "
   ]
  },
  {
   "attachments": {},
   "cell_type": "markdown",
   "metadata": {},
   "source": [
    "> Volcaremos los resultados de los dos puntos anteriores a un CSV"
   ]
  },
  {
   "cell_type": "code",
   "execution_count": 72,
   "metadata": {},
   "outputs": [],
   "source": [
    "medias = []\n",
    "for col in reg:\n",
    "    medias.append(df[df['GEO Region']==col]['Adjusted Passenger Count'].mean().compute())"
   ]
  },
  {
   "cell_type": "code",
   "execution_count": 88,
   "metadata": {},
   "outputs": [],
   "source": [
    "dict_final = {\"GEO Region\": reg, \"Adjusted Passenger Count\": as_pas, \"Means\":medias}"
   ]
  },
  {
   "cell_type": "code",
   "execution_count": 90,
   "metadata": {},
   "outputs": [],
   "source": [
    "import pandas as pd"
   ]
  },
  {
   "cell_type": "code",
   "execution_count": 91,
   "metadata": {},
   "outputs": [
    {
     "data": {
      "text/html": [
       "<div>\n",
       "<style scoped>\n",
       "    .dataframe tbody tr th:only-of-type {\n",
       "        vertical-align: middle;\n",
       "    }\n",
       "\n",
       "    .dataframe tbody tr th {\n",
       "        vertical-align: top;\n",
       "    }\n",
       "\n",
       "    .dataframe thead th {\n",
       "        text-align: right;\n",
       "    }\n",
       "</style>\n",
       "<table border=\"1\" class=\"dataframe\">\n",
       "  <thead>\n",
       "    <tr style=\"text-align: right;\">\n",
       "      <th></th>\n",
       "      <th>GEO Region</th>\n",
       "      <th>Adjusted Passenger Count</th>\n",
       "      <th>Means</th>\n",
       "    </tr>\n",
       "  </thead>\n",
       "  <tbody>\n",
       "    <tr>\n",
       "      <th>0</th>\n",
       "      <td>US</td>\n",
       "      <td>659837</td>\n",
       "      <td>58485.878385</td>\n",
       "    </tr>\n",
       "    <tr>\n",
       "      <th>1</th>\n",
       "      <td>Asia</td>\n",
       "      <td>86398</td>\n",
       "      <td>13508.552704</td>\n",
       "    </tr>\n",
       "    <tr>\n",
       "      <th>2</th>\n",
       "      <td>Europe</td>\n",
       "      <td>48136</td>\n",
       "      <td>12779.055050</td>\n",
       "    </tr>\n",
       "    <tr>\n",
       "      <th>3</th>\n",
       "      <td>Canada</td>\n",
       "      <td>39798</td>\n",
       "      <td>9803.791255</td>\n",
       "    </tr>\n",
       "    <tr>\n",
       "      <th>4</th>\n",
       "      <td>Mexico</td>\n",
       "      <td>29206</td>\n",
       "      <td>7250.898655</td>\n",
       "    </tr>\n",
       "  </tbody>\n",
       "</table>\n",
       "</div>"
      ],
      "text/plain": [
       "  GEO Region  Adjusted Passenger Count         Means\n",
       "0         US                    659837  58485.878385\n",
       "1       Asia                     86398  13508.552704\n",
       "2     Europe                     48136  12779.055050\n",
       "3     Canada                     39798   9803.791255\n",
       "4     Mexico                     29206   7250.898655"
      ]
     },
     "execution_count": 91,
     "metadata": {},
     "output_type": "execute_result"
    }
   ],
   "source": [
    "final_df = pd.DataFrame(dict_final)\n",
    "final_df.head()"
   ]
  },
  {
   "cell_type": "code",
   "execution_count": 92,
   "metadata": {},
   "outputs": [],
   "source": [
    "final_df.to_csv(\"data/geo_data.csv\", index=False)"
   ]
  }
 ],
 "metadata": {
  "kernelspec": {
   "display_name": "Python 3",
   "language": "python",
   "name": "python3"
  },
  "language_info": {
   "codemirror_mode": {
    "name": "ipython",
    "version": 3
   },
   "file_extension": ".py",
   "mimetype": "text/x-python",
   "name": "python",
   "nbconvert_exporter": "python",
   "pygments_lexer": "ipython3",
   "version": "3.10.8"
  },
  "orig_nbformat": 4
 },
 "nbformat": 4,
 "nbformat_minor": 2
}
