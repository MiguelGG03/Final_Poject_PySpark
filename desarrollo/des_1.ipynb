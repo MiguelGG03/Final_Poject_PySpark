{
 "cells": [
  {
   "attachments": {},
   "cell_type": "markdown",
   "metadata": {},
   "source": [
    "La primera tarea que llevaremos a cabo, consistirá en conocer con qué tipo de datos\n",
    "contamos. Para ello, tendremos que categorizarlos según su estructura y presentarlos en la\n",
    "siguiente plantilla"
   ]
  },
  {
   "attachments": {},
   "cell_type": "markdown",
   "metadata": {},
   "source": [
    "![plantilla](imgs/plantilla.png)"
   ]
  },
  {
   "cell_type": "code",
   "execution_count": 19,
   "metadata": {},
   "outputs": [],
   "source": [
    "import dask.dataframe as dd"
   ]
  },
  {
   "cell_type": "code",
   "execution_count": 20,
   "metadata": {},
   "outputs": [],
   "source": [
    "df1 = dd.read_csv(\"data/ABT_CALIDAD_AIRE.csv\")\n",
    "df2 = dd.read_csv(\"data/air_traffic_data.csv\")"
   ]
  },
  {
   "cell_type": "code",
   "execution_count": 21,
   "metadata": {},
   "outputs": [],
   "source": [
    "columnas = []\n",
    "for col in df1.columns:\n",
    "    columnas.append(col)\n",
    "for col in df2.columns:\n",
    "    columnas.append(col)"
   ]
  },
  {
   "cell_type": "code",
   "execution_count": 22,
   "metadata": {},
   "outputs": [],
   "source": [
    "tipo = []\n",
    "for col in df1.dtypes:\n",
    "    tipo.append(col)\n",
    "for col in df2.dtypes:\n",
    "    tipo.append(col)"
   ]
  },
  {
   "cell_type": "code",
   "execution_count": 23,
   "metadata": {},
   "outputs": [
    {
     "data": {
      "text/plain": [
       "True"
      ]
     },
     "execution_count": 23,
     "metadata": {},
     "output_type": "execute_result"
    }
   ],
   "source": [
    "len(columnas) == len(tipo)"
   ]
  },
  {
   "cell_type": "code",
   "execution_count": 24,
   "metadata": {},
   "outputs": [
    {
     "data": {
      "text/plain": [
       "{'id_pto_calidad': dtype('int64'),\n",
       " 'nombre_estacion': dtype('O'),\n",
       " 'ALTITUD': dtype('int64'),\n",
       " 'tipo_estacion_id': dtype('O'),\n",
       " 'fecha': dtype('O'),\n",
       " 'Calidad_NO2': dtype('float64'),\n",
       " 'Pto_trafico2': dtype('float64'),\n",
       " 'Pto_trafico1': dtype('float64'),\n",
       " 'Pto_trafico4': dtype('int64'),\n",
       " 'Pto_trafico5': dtype('int64'),\n",
       " 'Pto_trafico3': dtype('int64'),\n",
       " 'Distancia_Pto_trafico2': dtype('float64'),\n",
       " 'Distancia_Pto_trafico1': dtype('float64'),\n",
       " 'Distancia_Pto_trafico4': dtype('float64'),\n",
       " 'Distancia_Pto_trafico5': dtype('float64'),\n",
       " 'Distancia_Pto_trafico3': dtype('float64'),\n",
       " 'Intensidad_Pto_trafico1': dtype('float64'),\n",
       " 'Intensidad_Pto_trafico2': dtype('float64'),\n",
       " 'Intensidad_Pto_trafico3': dtype('float64'),\n",
       " 'Intensidad_Pto_trafico4': dtype('float64'),\n",
       " 'Intensidad_Pto_trafico5': dtype('float64'),\n",
       " 'Carga_Pto_trafico2': dtype('float64'),\n",
       " 'Carga_Pto_trafico1': dtype('float64'),\n",
       " 'Carga_Pto_trafico4': dtype('float64'),\n",
       " 'Carga_Pto_trafico5': dtype('float64'),\n",
       " 'Carga_Pto_trafico3': dtype('float64'),\n",
       " 'Intensidad_mediaR1_500': dtype('float64'),\n",
       " 'Intensidad_mediaR2_500_750': dtype('float64'),\n",
       " 'Intensidad_mediaR3_750_1000': dtype('float64'),\n",
       " 'Intensidad_mediaR4_1000_1500': dtype('float64'),\n",
       " 'Intensidad_mediaR5_1500_2000': dtype('float64'),\n",
       " 'Intensidad_mediaR6_2000': dtype('float64'),\n",
       " 'Intensidad_minR1_500': dtype('float64'),\n",
       " 'Intensidad_minR2_500_750': dtype('float64'),\n",
       " 'Intensidad_minR3_750_1000': dtype('float64'),\n",
       " 'Intensidad_minR4_1000_1500': dtype('float64'),\n",
       " 'Intensidad_minR5_1500_2000': dtype('float64'),\n",
       " 'Intensidad_minR6_2000': dtype('float64'),\n",
       " 'Intensidad_maxR1_500': dtype('float64'),\n",
       " 'Intensidad_maxR2_500_750': dtype('float64'),\n",
       " 'Intensidad_maxR3_750_1000': dtype('float64'),\n",
       " 'Intensidad_maxR4_1000_1500': dtype('float64'),\n",
       " 'Intensidad_maxR5_1500_2000': dtype('float64'),\n",
       " 'Intensidad_maxR6_2000': dtype('float64'),\n",
       " 'Carga_mediaR1_500': dtype('float64'),\n",
       " 'Carga_mediaR2_500_750': dtype('float64'),\n",
       " 'Carga_mediaR3_750_1000': dtype('float64'),\n",
       " 'Carga_mediaR4_1000_1500': dtype('float64'),\n",
       " 'Carga_mediaR5_1500_2000': dtype('float64'),\n",
       " 'Carga_mediaR6_2000': dtype('float64'),\n",
       " 'Carga_minR1_500': dtype('float64'),\n",
       " 'Carga_minR2_500_750': dtype('float64'),\n",
       " 'Carga_minR3_750_1000': dtype('float64'),\n",
       " 'Carga_minR4_1000_1500': dtype('float64'),\n",
       " 'Carga_minR5_1500_2000': dtype('float64'),\n",
       " 'Carga_minR6_2000': dtype('float64'),\n",
       " 'Carga_maxR1_500': dtype('float64'),\n",
       " 'Carga_maxR2_500_750': dtype('float64'),\n",
       " 'Carga_maxR3_750_1000': dtype('float64'),\n",
       " 'Carga_maxR4_1000_1500': dtype('float64'),\n",
       " 'Carga_maxR5_1500_2000': dtype('float64'),\n",
       " 'Carga_maxR6_2000': dtype('float64'),\n",
       " 'temp_c': dtype('float64'),\n",
       " 'is_day': dtype('int64'),\n",
       " 'wind_kph': dtype('float64'),\n",
       " 'wind_degree': dtype('int64'),\n",
       " 'wind_dir': dtype('O'),\n",
       " 'pressure_mb': dtype('int64'),\n",
       " 'precip_mm': dtype('float64'),\n",
       " 'humidity': dtype('int64'),\n",
       " 'cloud': dtype('int64'),\n",
       " 'feelslike_c': dtype('float64'),\n",
       " 'windchill_c': dtype('float64'),\n",
       " 'heatindex_c': dtype('float64'),\n",
       " 'dewpoint_c': dtype('float64'),\n",
       " 'will_it_rain': dtype('int64'),\n",
       " 'chance_of_rain': dtype('int64'),\n",
       " 'will_it_snow': dtype('int64'),\n",
       " 'chance_of_snow': dtype('int64'),\n",
       " 'vis_km': dtype('float64'),\n",
       " 'festivo': dtype('int64'),\n",
       " 'anyo': dtype('int64'),\n",
       " 'mes': dtype('int64'),\n",
       " 'dia': dtype('int64'),\n",
       " 'hora': dtype('int64'),\n",
       " 'diasemana': dtype('int64'),\n",
       " 'Activity Period': dtype('int64'),\n",
       " 'Operating Airline': dtype('O'),\n",
       " 'Operating Airline IATA Code': dtype('O'),\n",
       " 'Published Airline': dtype('O'),\n",
       " 'Published Airline IATA Code': dtype('O'),\n",
       " 'GEO Summary': dtype('O'),\n",
       " 'GEO Region': dtype('O'),\n",
       " 'Activity Type Code': dtype('O'),\n",
       " 'Price Category Code': dtype('O'),\n",
       " 'Terminal': dtype('O'),\n",
       " 'Boarding Area': dtype('O'),\n",
       " 'Passenger Count': dtype('int64'),\n",
       " 'Adjusted Activity Type Code': dtype('O'),\n",
       " 'Adjusted Passenger Count': dtype('int64'),\n",
       " 'Year': dtype('int64'),\n",
       " 'Month': dtype('O')}"
      ]
     },
     "execution_count": 24,
     "metadata": {},
     "output_type": "execute_result"
    }
   ],
   "source": [
    "dict = {}\n",
    "for col , tip in zip(columnas, tipo):\n",
    "    dict[col] = tip\n",
    "dict"
   ]
  },
  {
   "cell_type": "code",
   "execution_count": 25,
   "metadata": {},
   "outputs": [],
   "source": [
    "import pandas as pd"
   ]
  },
  {
   "cell_type": "code",
   "execution_count": 28,
   "metadata": {},
   "outputs": [
    {
     "data": {
      "text/html": [
       "<div>\n",
       "<style scoped>\n",
       "    .dataframe tbody tr th:only-of-type {\n",
       "        vertical-align: middle;\n",
       "    }\n",
       "\n",
       "    .dataframe tbody tr th {\n",
       "        vertical-align: top;\n",
       "    }\n",
       "\n",
       "    .dataframe thead th {\n",
       "        text-align: right;\n",
       "    }\n",
       "</style>\n",
       "<table border=\"1\" class=\"dataframe\">\n",
       "  <thead>\n",
       "    <tr style=\"text-align: right;\">\n",
       "      <th></th>\n",
       "      <th>0</th>\n",
       "    </tr>\n",
       "  </thead>\n",
       "  <tbody>\n",
       "    <tr>\n",
       "      <th>id_pto_calidad</th>\n",
       "      <td>int64</td>\n",
       "    </tr>\n",
       "    <tr>\n",
       "      <th>nombre_estacion</th>\n",
       "      <td>object</td>\n",
       "    </tr>\n",
       "    <tr>\n",
       "      <th>ALTITUD</th>\n",
       "      <td>int64</td>\n",
       "    </tr>\n",
       "    <tr>\n",
       "      <th>tipo_estacion_id</th>\n",
       "      <td>object</td>\n",
       "    </tr>\n",
       "    <tr>\n",
       "      <th>fecha</th>\n",
       "      <td>object</td>\n",
       "    </tr>\n",
       "  </tbody>\n",
       "</table>\n",
       "</div>"
      ],
      "text/plain": [
       "                       0\n",
       "id_pto_calidad     int64\n",
       "nombre_estacion   object\n",
       "ALTITUD            int64\n",
       "tipo_estacion_id  object\n",
       "fecha             object"
      ]
     },
     "execution_count": 28,
     "metadata": {},
     "output_type": "execute_result"
    }
   ],
   "source": [
    "df = pd.DataFrame(dict,index=[0])\n",
    "df = df.T\n",
    "df.head()"
   ]
  },
  {
   "cell_type": "code",
   "execution_count": 31,
   "metadata": {},
   "outputs": [],
   "source": [
    "df.columns = ['tipo']"
   ]
  },
  {
   "cell_type": "code",
   "execution_count": 32,
   "metadata": {},
   "outputs": [
    {
     "data": {
      "text/html": [
       "<div>\n",
       "<style scoped>\n",
       "    .dataframe tbody tr th:only-of-type {\n",
       "        vertical-align: middle;\n",
       "    }\n",
       "\n",
       "    .dataframe tbody tr th {\n",
       "        vertical-align: top;\n",
       "    }\n",
       "\n",
       "    .dataframe thead th {\n",
       "        text-align: right;\n",
       "    }\n",
       "</style>\n",
       "<table border=\"1\" class=\"dataframe\">\n",
       "  <thead>\n",
       "    <tr style=\"text-align: right;\">\n",
       "      <th></th>\n",
       "      <th>tipo</th>\n",
       "    </tr>\n",
       "  </thead>\n",
       "  <tbody>\n",
       "    <tr>\n",
       "      <th>id_pto_calidad</th>\n",
       "      <td>int64</td>\n",
       "    </tr>\n",
       "    <tr>\n",
       "      <th>nombre_estacion</th>\n",
       "      <td>object</td>\n",
       "    </tr>\n",
       "    <tr>\n",
       "      <th>ALTITUD</th>\n",
       "      <td>int64</td>\n",
       "    </tr>\n",
       "    <tr>\n",
       "      <th>tipo_estacion_id</th>\n",
       "      <td>object</td>\n",
       "    </tr>\n",
       "    <tr>\n",
       "      <th>fecha</th>\n",
       "      <td>object</td>\n",
       "    </tr>\n",
       "  </tbody>\n",
       "</table>\n",
       "</div>"
      ],
      "text/plain": [
       "                    tipo\n",
       "id_pto_calidad     int64\n",
       "nombre_estacion   object\n",
       "ALTITUD            int64\n",
       "tipo_estacion_id  object\n",
       "fecha             object"
      ]
     },
     "execution_count": 32,
     "metadata": {},
     "output_type": "execute_result"
    }
   ],
   "source": [
    "df.head()"
   ]
  },
  {
   "cell_type": "code",
   "execution_count": 33,
   "metadata": {},
   "outputs": [],
   "source": [
    "df.to_csv('data/cols_tipos.csv', index=True)"
   ]
  }
 ],
 "metadata": {
  "kernelspec": {
   "display_name": "Python 3",
   "language": "python",
   "name": "python3"
  },
  "language_info": {
   "codemirror_mode": {
    "name": "ipython",
    "version": 3
   },
   "file_extension": ".py",
   "mimetype": "text/x-python",
   "name": "python",
   "nbconvert_exporter": "python",
   "pygments_lexer": "ipython3",
   "version": "3.10.8"
  },
  "orig_nbformat": 4
 },
 "nbformat": 4,
 "nbformat_minor": 2
}
